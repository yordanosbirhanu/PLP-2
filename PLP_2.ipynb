{
 "cells": [
  {
   "cell_type": "code",
   "execution_count": 1,
   "id": "154b9e25-3f15-403a-a622-501ee2e9db7d",
   "metadata": {},
   "outputs": [
    {
     "name": "stdout",
     "output_type": "stream",
     "text": [
      "The index of 30 is: 3\n",
      "Final my_list: [10, 15, 20, 30, 40, 50, 60]\n"
     ]
    }
   ],
   "source": [
    "# Step 1: Create an empty list\n",
    "my_list = []\n",
    "\n",
    "# Step 2: Append elements to the list\n",
    "my_list.append(10)\n",
    "my_list.append(20)\n",
    "my_list.append(30)\n",
    "my_list.append(40)\n",
    "\n",
    "# Step 3: Insert 15 at the second position (index 1)\n",
    "my_list.insert(1, 15)\n",
    "\n",
    "# Step 4: Extend the list with another list\n",
    "my_list.extend([50, 60, 70])\n",
    "\n",
    "# Step 5: Remove the last element\n",
    "my_list.pop()\n",
    "\n",
    "# Step 6: Sort the list in ascending order\n",
    "my_list.sort()\n",
    "\n",
    "# Step 7: Find and print the index of the value 30\n",
    "index_of_30 = my_list.index(30)\n",
    "print(\"The index of 30 is:\", index_of_30)\n",
    "\n",
    "# Optional: Print the final list\n",
    "print(\"Final my_list:\", my_list)\n"
   ]
  },
  {
   "cell_type": "code",
   "execution_count": null,
   "id": "f25b4cf4-c66e-438a-aecc-d6c241748eaa",
   "metadata": {},
   "outputs": [],
   "source": []
  }
 ],
 "metadata": {
  "kernelspec": {
   "display_name": "Python 3 (ipykernel)",
   "language": "python",
   "name": "python3"
  },
  "language_info": {
   "codemirror_mode": {
    "name": "ipython",
    "version": 3
   },
   "file_extension": ".py",
   "mimetype": "text/x-python",
   "name": "python",
   "nbconvert_exporter": "python",
   "pygments_lexer": "ipython3",
   "version": "3.13.5"
  }
 },
 "nbformat": 4,
 "nbformat_minor": 5
}
